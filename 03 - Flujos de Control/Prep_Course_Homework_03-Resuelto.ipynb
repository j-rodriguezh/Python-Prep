{
 "cells": [
  {
   "cell_type": "markdown",
   "metadata": {},
   "source": [
    "## Flujos de Control"
   ]
  },
  {
   "cell_type": "markdown",
   "metadata": {},
   "source": [
    "1) Crear una variable que contenga un elemento del conjunto de números enteros y luego imprimir por pantalla si es mayor o menor a cero"
   ]
  },
  {
   "cell_type": "code",
   "execution_count": 4,
   "metadata": {},
   "outputs": [
    {
     "name": "stdout",
     "output_type": "stream",
     "text": [
      "La varaible es mayor a cero\n"
     ]
    }
   ],
   "source": [
    "a = 10\n",
    "if (a < 0):\n",
    "    print('La variable es menor a cero')\n",
    "elif (a > 0): \n",
    "    print('La varaible es mayor a cero')\n",
    "else:\n",
    "    print('La variable es igual a cero')"
   ]
  },
  {
   "cell_type": "markdown",
   "metadata": {},
   "source": [
    "2) Crear dos variables y un condicional que informe si son del mismo tipo de dato"
   ]
  },
  {
   "cell_type": "code",
   "execution_count": 5,
   "metadata": {},
   "outputs": [
    {
     "name": "stdout",
     "output_type": "stream",
     "text": [
      "Las variables son de tipos de dato diferentes\n"
     ]
    }
   ],
   "source": [
    "a = 2\n",
    "b = 'hola'\n",
    "if (type(a) == type(b)):\n",
    "    print('Las variables son del mismo tipo de dato')\n",
    "else:\n",
    "    print('Las variables son de tipos de dato diferentes')"
   ]
  },
  {
   "cell_type": "code",
   "execution_count": 5,
   "metadata": {},
   "outputs": [
    {
     "name": "stdout",
     "output_type": "stream",
     "text": [
      "1\n",
      "2\n",
      "3\n",
      "4\n",
      "5\n",
      "6\n",
      "7\n",
      "8\n",
      "9\n"
     ]
    }
   ],
   "source": [
    "for n in range(1,10):\n",
    "    print(n)"
   ]
  },
  {
   "cell_type": "markdown",
   "metadata": {},
   "source": [
    "3) Para los valores enteros del 1 al 20, imprimir por pantalla si es par o impar"
   ]
  },
  {
   "cell_type": "code",
   "execution_count": 6,
   "metadata": {},
   "outputs": [
    {
     "name": "stdout",
     "output_type": "stream",
     "text": [
      "1\n",
      "2\n",
      "3\n",
      "4\n",
      "5\n",
      "6\n",
      "7\n",
      "8\n",
      "9\n"
     ]
    }
   ],
   "source": [
    "n=1\n",
    "while(n<10):\n",
    "    print(n)\n",
    "    n=n+1\n"
   ]
  },
  {
   "cell_type": "code",
   "execution_count": 7,
   "metadata": {},
   "outputs": [
    {
     "name": "stdout",
     "output_type": "stream",
     "text": [
      "4\n",
      "3\n",
      "2\n",
      "1\n",
      "0\n",
      "Fin del bucle\n"
     ]
    }
   ],
   "source": [
    "x=5\n",
    "while True:\n",
    "    x-=1\n",
    "    print(x)\n",
    "    if x == 0:\n",
    "        break\n",
    "print(\"Fin del bucle\")"
   ]
  },
  {
   "cell_type": "code",
   "execution_count": 11,
   "metadata": {},
   "outputs": [
    {
     "name": "stdout",
     "output_type": "stream",
     "text": [
      "y\n",
      "t\n",
      "h\n",
      "o\n",
      "n\n"
     ]
    }
   ],
   "source": [
    "cadena = \"Python\"\n",
    "for letra in cadena:\n",
    "    if letra == 'P':\n",
    "        continue\n",
    "    print(letra)"
   ]
  },
  {
   "cell_type": "code",
   "execution_count": 13,
   "metadata": {},
   "outputs": [
    {
     "name": "stdout",
     "output_type": "stream",
     "text": [
      "El número  1  es impar\n",
      "El número  2  es par\n",
      "El número  3  es impar\n",
      "El número  4  es par\n",
      "El número  5  es impar\n",
      "El número  6  es par\n",
      "El número  7  es impar\n",
      "El número  8  es par\n",
      "El número  9  es impar\n",
      "El número  10  es par\n",
      "El número  11  es impar\n",
      "El número  12  es par\n",
      "El número  13  es impar\n",
      "El número  14  es par\n",
      "El número  15  es impar\n",
      "El número  16  es par\n",
      "El número  17  es impar\n",
      "El número  18  es par\n",
      "El número  19  es impar\n",
      "El número  20  es par\n"
     ]
    }
   ],
   "source": [
    "for i in range(1, 21):\n",
    "    if i % 2 == 0:\n",
    "        print('El número ', str(i), ' es par')\n",
    "    else:\n",
    "        print('El número ', str(i), ' es impar')"
   ]
  },
  {
   "cell_type": "markdown",
   "metadata": {},
   "source": [
    "4) En un ciclo for mostrar para los valores entre 0 y 5 el resultado de elevarlo a la potencia igual a 3"
   ]
  },
  {
   "cell_type": "code",
   "execution_count": 9,
   "metadata": {},
   "outputs": [
    {
     "name": "stdout",
     "output_type": "stream",
     "text": [
      "Valor: 0  Elevado a la 3ra potencia: 0\n",
      "Valor: 1  Elevado a la 3ra potencia: 1\n",
      "Valor: 2  Elevado a la 3ra potencia: 8\n",
      "Valor: 3  Elevado a la 3ra potencia: 27\n",
      "Valor: 4  Elevado a la 3ra potencia: 64\n",
      "Valor: 5  Elevado a la 3ra potencia: 125\n"
     ]
    }
   ],
   "source": [
    "for i in range(0, 6):\n",
    "    print('Valor:', str(i), ' Elevado a la 3ra potencia:', str(i**3))"
   ]
  },
  {
   "cell_type": "markdown",
   "metadata": {},
   "source": [
    "5) Crear una variable que contenga un número entero y realizar un ciclo for la misma cantidad de ciclos"
   ]
  },
  {
   "cell_type": "code",
   "execution_count": 10,
   "metadata": {},
   "outputs": [
    {
     "name": "stdout",
     "output_type": "stream",
     "text": [
      "11\n"
     ]
    }
   ],
   "source": [
    "n = 12\n",
    "for i in range(0, n):\n",
    "    pass\n",
    "print(i)"
   ]
  },
  {
   "cell_type": "markdown",
   "metadata": {},
   "source": [
    "6) Utilizar un ciclo while para realizar el factorial de un número guardado en una variable, sólo si la variable contiene un número entero mayor a 0"
   ]
  },
  {
   "cell_type": "code",
   "execution_count": 20,
   "metadata": {},
   "outputs": [
    {
     "name": "stdout",
     "output_type": "stream",
     "text": [
      "El factorial es 120\n"
     ]
    }
   ],
   "source": [
    "import math\n",
    "n = 5\n",
    "if (type(n) == int):\n",
    "    if (n > 0):\n",
    "        print('El factorial es', math.factorial(n))\n",
    "    else:\n",
    "        print('La variable no es mayor a cero')\n",
    "else:\n",
    "    print('La variable no es un entero')\n",
    "    "
   ]
  },
  {
   "cell_type": "markdown",
   "metadata": {},
   "source": [
    "7) Crear un ciclo for dentro de un ciclo while"
   ]
  },
  {
   "cell_type": "code",
   "execution_count": 38,
   "metadata": {},
   "outputs": [
    {
     "name": "stdout",
     "output_type": "stream",
     "text": [
      "Ciclo while nro 2\n",
      "Ciclo for nro 1\n",
      "Ciclo while nro 3\n",
      "Ciclo for nro 1\n",
      "Ciclo while nro 3\n",
      "Ciclo for nro 2\n",
      "Ciclo while nro 4\n",
      "Ciclo for nro 1\n",
      "Ciclo while nro 4\n",
      "Ciclo for nro 2\n",
      "Ciclo while nro 4\n",
      "Ciclo for nro 3\n",
      "Ciclo while nro 5\n",
      "Ciclo for nro 1\n",
      "Ciclo while nro 5\n",
      "Ciclo for nro 2\n",
      "Ciclo while nro 5\n",
      "Ciclo for nro 3\n",
      "Ciclo while nro 5\n",
      "Ciclo for nro 4\n"
     ]
    }
   ],
   "source": [
    "n = 0\n",
    "while(n < 5):\n",
    "    n += 1\n",
    "    for i in range(1,n):\n",
    "        print('Ciclo while nro ' + str(n))\n",
    "        print('Ciclo for nro ' + str(i))"
   ]
  },
  {
   "cell_type": "markdown",
   "metadata": {},
   "source": [
    "8) Crear un ciclo while dentro de un ciclo for"
   ]
  },
  {
   "cell_type": "code",
   "execution_count": 3,
   "metadata": {},
   "outputs": [],
   "source": [
    "n = 5\n",
    "for i in range(1, n):\n",
    "    while(n < 5):\n",
    "        n -= 1\n",
    "        print('Ciclo while nro ' + str(n))\n",
    "        print('Ciclo for nro ' + str(i))"
   ]
  },
  {
   "cell_type": "markdown",
   "metadata": {},
   "source": [
    "9) Imprimir los números primos existentes entre 0 y 30"
   ]
  },
  {
   "cell_type": "code",
   "execution_count": 48,
   "metadata": {},
   "outputs": [
    {
     "name": "stdout",
     "output_type": "stream",
     "text": [
      "0\n",
      "1\n",
      "2\n",
      "3\n",
      "5\n",
      "7\n",
      "11\n",
      "13\n",
      "17\n",
      "19\n",
      "23\n",
      "29\n"
     ]
    }
   ],
   "source": [
    "tope_rango=30\n",
    "n = 0\n",
    "primo = True\n",
    "while (n < tope_rango):\n",
    "    for div in range(2, n):\n",
    "        if (n % div == 0):\n",
    "            primo = False\n",
    "    if (primo):\n",
    "        print(n)\n",
    "    else:\n",
    "        primo = True\n",
    "    n += 1"
   ]
  },
  {
   "cell_type": "code",
   "execution_count": 89,
   "metadata": {},
   "outputs": [
    {
     "name": "stdout",
     "output_type": "stream",
     "text": [
      "2\n",
      "3\n",
      "5\n",
      "7\n",
      "11\n",
      "13\n",
      "17\n",
      "19\n",
      "23\n",
      "29\n"
     ]
    }
   ],
   "source": [
    "for n in range(0,30):\n",
    "    cont=0\n",
    "    for div in range(2,n):\n",
    "        if(n>1 and n%div!=0):\n",
    "            cont+=1\n",
    "    if(cont==n-2):\n",
    "        print(n)"
   ]
  },
  {
   "cell_type": "markdown",
   "metadata": {},
   "source": [
    "10) ¿Se puede mejorar el proceso del punto 9? Utilizar las sentencias break y/ó continue para tal fin"
   ]
  },
  {
   "cell_type": "code",
   "execution_count": 22,
   "metadata": {},
   "outputs": [
    {
     "name": "stdout",
     "output_type": "stream",
     "text": [
      "0\n",
      "1\n",
      "2\n",
      "3\n",
      "5\n",
      "7\n",
      "11\n",
      "13\n",
      "17\n",
      "19\n",
      "23\n",
      "29\n"
     ]
    }
   ],
   "source": [
    "n = 0\n",
    "primo = True\n",
    "while (n < tope_rango):\n",
    "    for div in range(2, n):\n",
    "        if (n % div == 0):\n",
    "            primo = False\n",
    "            break\n",
    "    if (primo):\n",
    "        print(n)\n",
    "    else:\n",
    "        primo = True\n",
    "    n += 1"
   ]
  },
  {
   "cell_type": "code",
   "execution_count": 92,
   "metadata": {},
   "outputs": [
    {
     "name": "stdout",
     "output_type": "stream",
     "text": [
      "2\n",
      "3\n",
      "5\n",
      "7\n",
      "11\n",
      "13\n",
      "17\n",
      "19\n",
      "23\n",
      "29\n"
     ]
    }
   ],
   "source": [
    "for n in range(0,30):\n",
    "    cont=0\n",
    "    for div in range(2,n):\n",
    "        if(n>1 and n%div!=0):\n",
    "            cont+=1\n",
    "        else:\n",
    "            break\n",
    "    if(cont==n-2):\n",
    "        print(n)"
   ]
  },
  {
   "cell_type": "markdown",
   "metadata": {},
   "source": [
    "11) En los puntos 9 y 10, se diseño un código que encuentra números primos y además se lo optimizó. ¿Es posible saber en qué medida se optimizó?"
   ]
  },
  {
   "cell_type": "code",
   "execution_count": 56,
   "metadata": {},
   "outputs": [
    {
     "name": "stdout",
     "output_type": "stream",
     "text": [
      "0\n",
      "1\n",
      "2\n",
      "3\n",
      "5\n",
      "7\n",
      "11\n",
      "13\n",
      "17\n",
      "19\n",
      "23\n",
      "29\n",
      "Cantidad de ciclos: 378\n"
     ]
    }
   ],
   "source": [
    "ciclos_sin_break = 0\n",
    "n = 0\n",
    "primo = True\n",
    "while (n < tope_rango):\n",
    "    for div in range(2, n):\n",
    "        ciclos_sin_break += 1\n",
    "        if (n % div == 0):\n",
    "            primo = False\n",
    "    if (primo):\n",
    "        print(n)\n",
    "    else:\n",
    "        primo = True\n",
    "    n += 1\n",
    "print('Cantidad de ciclos: ' + str(ciclos_sin_break))"
   ]
  },
  {
   "cell_type": "code",
   "execution_count": 57,
   "metadata": {},
   "outputs": [
    {
     "name": "stdout",
     "output_type": "stream",
     "text": [
      "0\n",
      "1\n",
      "2\n",
      "3\n",
      "5\n",
      "7\n",
      "11\n",
      "13\n",
      "17\n",
      "19\n",
      "23\n",
      "29\n",
      "Cantidad de ciclos: 134\n",
      "Se optimizó a un 0.3544973544973545% de ciclos aplicando break\n"
     ]
    }
   ],
   "source": [
    "ciclos_con_break = 0\n",
    "n = 0\n",
    "primo = True\n",
    "while (n < tope_rango):\n",
    "    for div in range(2, n):\n",
    "        ciclos_con_break += 1\n",
    "        if (n % div == 0):\n",
    "            primo = False\n",
    "            break\n",
    "    if (primo):\n",
    "        print(n)\n",
    "    else:\n",
    "        primo = True\n",
    "    n += 1\n",
    "print('Cantidad de ciclos: ' + str(ciclos_con_break))\n",
    "print('Se optimizó a un ' + str(ciclos_con_break/ciclos_sin_break) + '% de ciclos aplicando break')"
   ]
  },
  {
   "cell_type": "markdown",
   "metadata": {},
   "source": [
    "12) Si la cantidad de números que se evalúa es mayor a treinta, esa optimización crece?"
   ]
  },
  {
   "cell_type": "code",
   "execution_count": 58,
   "metadata": {},
   "outputs": [
    {
     "name": "stdout",
     "output_type": "stream",
     "text": [
      "0\n",
      "1\n",
      "2\n",
      "3\n",
      "5\n",
      "7\n",
      "11\n",
      "13\n",
      "17\n",
      "19\n",
      "23\n",
      "29\n",
      "31\n",
      "37\n",
      "41\n",
      "43\n",
      "47\n",
      "53\n",
      "59\n",
      "61\n",
      "67\n",
      "71\n",
      "73\n",
      "79\n",
      "83\n",
      "89\n",
      "97\n",
      "Cantidad de ciclos: 4753\n"
     ]
    }
   ],
   "source": [
    "tope_rango=100\n",
    "ciclos_sin_break = 0\n",
    "n = 0\n",
    "primo = True\n",
    "while (n < tope_rango):\n",
    "    for div in range(2, n):\n",
    "        ciclos_sin_break += 1\n",
    "        if (n % div == 0):\n",
    "            primo = False\n",
    "    if (primo):\n",
    "        print(n)\n",
    "    else:\n",
    "        primo = True\n",
    "    n += 1\n",
    "print('Cantidad de ciclos: ' + str(ciclos_sin_break))"
   ]
  },
  {
   "cell_type": "code",
   "execution_count": 59,
   "metadata": {},
   "outputs": [
    {
     "name": "stdout",
     "output_type": "stream",
     "text": [
      "0\n",
      "1\n",
      "2\n",
      "3\n",
      "5\n",
      "7\n",
      "11\n",
      "13\n",
      "17\n",
      "19\n",
      "23\n",
      "29\n",
      "31\n",
      "37\n",
      "41\n",
      "43\n",
      "47\n",
      "53\n",
      "59\n",
      "61\n",
      "67\n",
      "71\n",
      "73\n",
      "79\n",
      "83\n",
      "89\n",
      "97\n",
      "Cantidad de ciclos: 1132\n",
      "Se optimizó a un 0.2381653692404797% de ciclos aplicando break\n"
     ]
    }
   ],
   "source": [
    "ciclos_con_break = 0\n",
    "n = 0\n",
    "primo = True\n",
    "while (n < tope_rango):\n",
    "    for div in range(2, n):\n",
    "        ciclos_con_break += 1\n",
    "        if (n % div == 0):\n",
    "            primo = False\n",
    "            break\n",
    "    if (primo):\n",
    "        print(n)\n",
    "    else:\n",
    "        primo = True\n",
    "    n += 1\n",
    "print('Cantidad de ciclos: ' + str(ciclos_con_break))\n",
    "print('Se optimizó a un ' + str(ciclos_con_break/ciclos_sin_break) + '% de ciclos aplicando break')"
   ]
  },
  {
   "cell_type": "markdown",
   "metadata": {},
   "source": [
    "13) Aplicando continue, armar un ciclo while que solo imprima los valores divisibles por 12, dentro del rango de números de 100 a 300"
   ]
  },
  {
   "cell_type": "code",
   "execution_count": 62,
   "metadata": {},
   "outputs": [
    {
     "name": "stdout",
     "output_type": "stream",
     "text": [
      "108  es divisible por 12\n",
      "120  es divisible por 12\n",
      "132  es divisible por 12\n",
      "144  es divisible por 12\n",
      "156  es divisible por 12\n",
      "168  es divisible por 12\n",
      "180  es divisible por 12\n",
      "192  es divisible por 12\n",
      "204  es divisible por 12\n",
      "216  es divisible por 12\n",
      "228  es divisible por 12\n",
      "240  es divisible por 12\n",
      "252  es divisible por 12\n",
      "264  es divisible por 12\n",
      "276  es divisible por 12\n",
      "288  es divisible por 12\n",
      "300  es divisible por 12\n"
     ]
    }
   ],
   "source": [
    "n = 99\n",
    "while(n <= 300):\n",
    "    n += 1\n",
    "    if (n % 12 != 0):\n",
    "        continue\n",
    "    print(n, ' es divisible por 12')"
   ]
  },
  {
   "cell_type": "code",
   "execution_count": 97,
   "metadata": {},
   "outputs": [
    {
     "name": "stdout",
     "output_type": "stream",
     "text": [
      "108 Es divisible por 12\n",
      "120 Es divisible por 12\n",
      "132 Es divisible por 12\n",
      "144 Es divisible por 12\n",
      "156 Es divisible por 12\n",
      "168 Es divisible por 12\n",
      "180 Es divisible por 12\n",
      "192 Es divisible por 12\n",
      "204 Es divisible por 12\n",
      "216 Es divisible por 12\n",
      "228 Es divisible por 12\n",
      "240 Es divisible por 12\n",
      "252 Es divisible por 12\n",
      "264 Es divisible por 12\n",
      "276 Es divisible por 12\n",
      "288 Es divisible por 12\n",
      "300 Es divisible por 12\n"
     ]
    }
   ],
   "source": [
    "n=99\n",
    "while(n<=300):\n",
    "    n+=1\n",
    "    if(n%12!=0):\n",
    "        continue\n",
    "    print(n,'Es divisible por 12')\n",
    "    "
   ]
  },
  {
   "cell_type": "markdown",
   "metadata": {},
   "source": [
    "14) Utilizar la función **input()** que permite hacer ingresos por teclado, para encontrar números primos y dar la opción al usario de buscar el siguiente"
   ]
  },
  {
   "cell_type": "code",
   "execution_count": 108,
   "metadata": {},
   "outputs": [
    {
     "name": "stdout",
     "output_type": "stream",
     "text": [
      "1\n",
      "¿Desea encontrar el siguiente número primo?\n",
      "2\n",
      "¿Desea encontrar el siguiente número primo?\n",
      "3\n",
      "¿Desea encontrar el siguiente número primo?\n",
      "5\n",
      "¿Desea encontrar el siguiente número primo?\n",
      "7\n",
      "¿Desea encontrar el siguiente número primo?\n",
      "Se finaliza el proceso\n"
     ]
    }
   ],
   "source": [
    "n = 1\n",
    "sigue = 1\n",
    "primo = True\n",
    "while (sigue == 1):\n",
    "    for div in range(2, n):\n",
    "        if (n % div == 0):\n",
    "            primo = False\n",
    "            break\n",
    "    if (primo):\n",
    "        print(n)\n",
    "        print('¿Desea encontrar el siguiente número primo?')\n",
    "        if (input() != '1'):\n",
    "            print('Se finaliza el proceso')\n",
    "            break\n",
    "    else:\n",
    "        primo = True\n",
    "    n += 1"
   ]
  },
  {
   "cell_type": "code",
   "execution_count": 119,
   "metadata": {},
   "outputs": [
    {
     "name": "stdout",
     "output_type": "stream",
     "text": [
      "El numero 23 es primo\n"
     ]
    }
   ],
   "source": [
    "a=int(input('Ingrese el numero'))\n",
    "cont=0\n",
    "for i in range(2,a):\n",
    "    if(a%i!=0):\n",
    "        cont+=1\n",
    "    else:\n",
    "        break\n",
    "if(cont==a-2):\n",
    "    print(\"El numero\",a,\"es primo\")\n",
    "else:\n",
    "    print(\"El numero\",a,\"no es primo\")"
   ]
  },
  {
   "cell_type": "code",
   "execution_count": 125,
   "metadata": {},
   "outputs": [
    {
     "name": "stdout",
     "output_type": "stream",
     "text": [
      "2\n",
      "3\n",
      "5\n",
      "Se finaliza el proceso\n"
     ]
    }
   ],
   "source": [
    "for n in range(0,30):\n",
    "    cont=0\n",
    "    for div in range(2,n):\n",
    "        if(n>1 and n%div!=0):\n",
    "            cont+=1\n",
    "        else:\n",
    "            break\n",
    "    if(cont==n-2):\n",
    "        print(n)\n",
    "        a=input('Desea encontrar el siguiente numero primo?')\n",
    "        if(a!='si'):\n",
    "            print('Se finaliza el proceso')\n",
    "            break"
   ]
  },
  {
   "cell_type": "markdown",
   "metadata": {},
   "source": [
    "15) Crear un ciclo while que encuentre dentro del rango de 100 a 300 el primer número divisible por 3 y además múltiplo de 6"
   ]
  },
  {
   "cell_type": "code",
   "execution_count": 132,
   "metadata": {},
   "outputs": [
    {
     "name": "stdout",
     "output_type": "stream",
     "text": [
      "El número es:  102\n"
     ]
    }
   ],
   "source": [
    "n = 100\n",
    "while(n<=300):\n",
    "    if (n % 3 == 0 and n%6==0):\n",
    "        print('El número es: ', str(n))\n",
    "        break\n",
    "    n += 1"
   ]
  }
 ],
 "metadata": {
  "kernelspec": {
   "display_name": "Python 3.10.8 64-bit",
   "language": "python",
   "name": "python3"
  },
  "language_info": {
   "codemirror_mode": {
    "name": "ipython",
    "version": 3
   },
   "file_extension": ".py",
   "mimetype": "text/x-python",
   "name": "python",
   "nbconvert_exporter": "python",
   "pygments_lexer": "ipython3",
   "version": "3.10.8"
  },
  "vscode": {
   "interpreter": {
    "hash": "75a17dda014338c3f7dc336dbbe30ee81e2634cab6662301ce25fb824c9602ff"
   }
  }
 },
 "nbformat": 4,
 "nbformat_minor": 4
}
